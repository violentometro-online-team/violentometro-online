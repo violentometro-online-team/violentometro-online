{
 "cells": [
  {
   "cell_type": "code",
   "execution_count": 1,
   "metadata": {},
   "outputs": [],
   "source": [
    "import pandas as pd\n",
    "import re\n",
    "import string\n",
    "import emoji\n",
    "import spacy\n",
    "\n",
    "nlp = spacy.load(\"es_core_news_sm\")"
   ]
  },
  {
   "cell_type": "markdown",
   "metadata": {},
   "source": [
    "For this project, we have two different datasets: \n",
    "\n",
    "* [MEX-A3T](https://sites.google.com/view/mex-a3t/) \n",
    "* Comments from Facebook\n",
    "\n",
    "In this notebook, we create new features for the datasets and combine the two into a new one. The new categories help us categorize the different types of Comments so that the Category feature expresses the prescence of hate speech against woemn in the comment. The following table shows the new features that we add to the combined dataset (MEXT-A3T and Comments from Facebook):\n",
    "\n",
    "| Comment           |  Hate_Speech  |  Hate_Speech_Women |\n",
    "|-------------------|:-------------:|-------------------:|\n",
    "| No hate speech    |      0        |         0          |\n",
    "| Hate speech       |      1        |         0          |\n",
    "| Hate speech women |      1        |         1          | "
   ]
  },
  {
   "cell_type": "code",
   "execution_count": 2,
   "metadata": {},
   "outputs": [],
   "source": [
    "data_dir = '../data/'"
   ]
  },
  {
   "cell_type": "code",
   "execution_count": 3,
   "metadata": {},
   "outputs": [],
   "source": [
    "df_inv = pd.read_csv(data_dir + 'clean_train_aggressiveness.csv')"
   ]
  },
  {
   "cell_type": "code",
   "execution_count": 4,
   "metadata": {},
   "outputs": [],
   "source": [
    "df_fb = pd.read_csv(data_dir + 'clean_comentarios_facebook.csv', encoding='utf-8')"
   ]
  },
  {
   "cell_type": "code",
   "execution_count": 5,
   "metadata": {},
   "outputs": [
    {
     "data": {
      "text/plain": [
       "0    5222\n",
       "1    2110\n",
       "Name: Category, dtype: int64"
      ]
     },
     "execution_count": 5,
     "metadata": {},
     "output_type": "execute_result"
    }
   ],
   "source": [
    "df_inv.Category.value_counts()"
   ]
  },
  {
   "cell_type": "code",
   "execution_count": 6,
   "metadata": {},
   "outputs": [
    {
     "data": {
      "text/plain": [
       "0    1671\n",
       "1     297\n",
       "Name: Category, dtype: int64"
      ]
     },
     "execution_count": 6,
     "metadata": {},
     "output_type": "execute_result"
    }
   ],
   "source": [
    "df_fb.Category.value_counts()"
   ]
  },
  {
   "cell_type": "code",
   "execution_count": 7,
   "metadata": {},
   "outputs": [
    {
     "name": "stdout",
     "output_type": "stream",
     "text": [
      "<class 'pandas.core.frame.DataFrame'>\n",
      "RangeIndex: 7332 entries, 0 to 7331\n",
      "Data columns (total 3 columns):\n",
      " #   Column    Non-Null Count  Dtype \n",
      "---  ------    --------------  ----- \n",
      " 0   Id        7332 non-null   int64 \n",
      " 1   Category  7332 non-null   int64 \n",
      " 2   Text      7323 non-null   object\n",
      "dtypes: int64(2), object(1)\n",
      "memory usage: 172.0+ KB\n"
     ]
    }
   ],
   "source": [
    "df_inv.info()"
   ]
  },
  {
   "cell_type": "code",
   "execution_count": 8,
   "metadata": {},
   "outputs": [
    {
     "name": "stdout",
     "output_type": "stream",
     "text": [
      "<class 'pandas.core.frame.DataFrame'>\n",
      "RangeIndex: 1968 entries, 0 to 1967\n",
      "Data columns (total 2 columns):\n",
      " #   Column    Non-Null Count  Dtype \n",
      "---  ------    --------------  ----- \n",
      " 0   Text      1959 non-null   object\n",
      " 1   Category  1968 non-null   int64 \n",
      "dtypes: int64(1), object(1)\n",
      "memory usage: 30.9+ KB\n"
     ]
    }
   ],
   "source": [
    "df_fb.info()"
   ]
  },
  {
   "cell_type": "markdown",
   "metadata": {},
   "source": [
    "We create the new features `Hate_Speech` and `Hate_Speech_Women`. Note that in the case of the MEX-A3T dataset, we copy the `Category` feature to `Hate_Speech` since in this case the feature expresses whether the comment contains hate speech in general and create the feature `Hate_Speech_Women` with all entries to 0 since this dataset does not contain hate speech targeted particularly against women."
   ]
  },
  {
   "cell_type": "code",
   "execution_count": 9,
   "metadata": {},
   "outputs": [],
   "source": [
    "df_inv['Hate_Speech'] = df_inv['Category']"
   ]
  },
  {
   "cell_type": "code",
   "execution_count": 10,
   "metadata": {},
   "outputs": [],
   "source": [
    "df_inv['Hate_Speech_Women'] = 0"
   ]
  },
  {
   "cell_type": "markdown",
   "metadata": {},
   "source": [
    "On the other hand, the dataset with comments from Facebook does contain hate speech against women and this is expressed by the `Category` feature. Hence, both new features are equivalente to the `Category` one."
   ]
  },
  {
   "cell_type": "code",
   "execution_count": 11,
   "metadata": {},
   "outputs": [],
   "source": [
    "df_fb['Hate_Speech'] = df_fb['Category']"
   ]
  },
  {
   "cell_type": "code",
   "execution_count": 12,
   "metadata": {},
   "outputs": [],
   "source": [
    "df_fb['Hate_Speech_Women'] = df_fb['Category']"
   ]
  },
  {
   "cell_type": "markdown",
   "metadata": {},
   "source": [
    "Finally, we combine the two datasets into one."
   ]
  },
  {
   "cell_type": "code",
   "execution_count": 14,
   "metadata": {},
   "outputs": [],
   "source": [
    "#Concatenar los dos datasets\n",
    "df = pd.concat([df_fb, df_inv])"
   ]
  },
  {
   "cell_type": "code",
   "execution_count": 15,
   "metadata": {},
   "outputs": [
    {
     "name": "stdout",
     "output_type": "stream",
     "text": [
      "<class 'pandas.core.frame.DataFrame'>\n",
      "Int64Index: 9300 entries, 0 to 7331\n",
      "Data columns (total 5 columns):\n",
      " #   Column             Non-Null Count  Dtype  \n",
      "---  ------             --------------  -----  \n",
      " 0   Text               9282 non-null   object \n",
      " 1   Category           9300 non-null   int64  \n",
      " 2   Hate_Speech        9300 non-null   int64  \n",
      " 3   Hate_Speech_Women  9300 non-null   int64  \n",
      " 4   Id                 7332 non-null   float64\n",
      "dtypes: float64(1), int64(3), object(1)\n",
      "memory usage: 435.9+ KB\n"
     ]
    }
   ],
   "source": [
    "df.info()"
   ]
  },
  {
   "cell_type": "code",
   "execution_count": 16,
   "metadata": {},
   "outputs": [],
   "source": [
    "df.to_csv(data_dir + \"join_clean_train_aggressiveness_comentarios_facebook_new_categories.csv\", index=False)"
   ]
  },
  {
   "cell_type": "code",
   "execution_count": null,
   "metadata": {},
   "outputs": [],
   "source": []
  }
 ],
 "metadata": {
  "kernelspec": {
   "display_name": "Python 3",
   "language": "python",
   "name": "python3"
  },
  "language_info": {
   "codemirror_mode": {
    "name": "ipython",
    "version": 3
   },
   "file_extension": ".py",
   "mimetype": "text/x-python",
   "name": "python",
   "nbconvert_exporter": "python",
   "pygments_lexer": "ipython3",
   "version": "3.8.3"
  }
 },
 "nbformat": 4,
 "nbformat_minor": 4
}
