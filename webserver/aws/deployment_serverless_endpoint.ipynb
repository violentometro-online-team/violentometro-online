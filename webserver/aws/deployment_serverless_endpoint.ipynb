{
 "cells": [
  {
   "cell_type": "markdown",
   "id": "2cb0ea26",
   "metadata": {},
   "source": [
    "# Deploying serverless endpoint"
   ]
  },
  {
   "cell_type": "markdown",
   "id": "f7c43bdc",
   "metadata": {},
   "source": [
    "## Creating model from previous training stored in S3"
   ]
  },
  {
   "cell_type": "code",
   "execution_count": 4,
   "id": "4efa4bfb",
   "metadata": {},
   "outputs": [],
   "source": [
    "from sagemaker.huggingface import HuggingFaceModel\n",
    "import sagemaker\n",
    "\n",
    "role = sagemaker.get_execution_role()\n",
    "\n",
    "huggingface_model = HuggingFaceModel(\n",
    "   model_data=\"s3://sagemaker-violentometro/saturdaysAI/beto-gru/model/model.tar.gz\",  # path to your trained SageMaker model\n",
    "   role=role,                                            # IAM role with permissions to create an endpoint\n",
    "   transformers_version=\"4.17.0\",                           # Transformers version used\n",
    "   pytorch_version=\"1.10.2\",                                # PyTorch version used\n",
    "   py_version='py38',                                    # Python version used\n",
    "   entry_point=\"inference_nlp.py\",\n",
    "   source_dir=\"code\"\n",
    ")"
   ]
  },
  {
   "cell_type": "markdown",
   "id": "8a3ad113",
   "metadata": {},
   "source": [
    "## Deploying model (Probably not needed)"
   ]
  },
  {
   "cell_type": "code",
   "execution_count": 5,
   "id": "862bd512",
   "metadata": {},
   "outputs": [
    {
     "name": "stdout",
     "output_type": "stream",
     "text": [
      "-----------!"
     ]
    }
   ],
   "source": [
    "# deploy model to SageMaker Inference\n",
    "predictor = huggingface_model.deploy(\n",
    "\tinitial_instance_count=1, # number of instances\n",
    "\tinstance_type='ml.t2.medium' # ec2 instance type\n",
    ")"
   ]
  },
  {
   "cell_type": "markdown",
   "id": "1e7ced92",
   "metadata": {},
   "source": [
    "## Testing deployed model"
   ]
  },
  {
   "cell_type": "code",
   "execution_count": 7,
   "id": "425bd929",
   "metadata": {},
   "outputs": [
    {
     "data": {
      "text/plain": [
       "{'prediction': 0.6604039669036865}"
      ]
     },
     "execution_count": 7,
     "metadata": {},
     "output_type": "execute_result"
    }
   ],
   "source": [
    "data = {\n",
    "   \"sentence\": \"hola\"\n",
    "}\n",
    "\n",
    "# request\n",
    "predictor.predict(data)"
   ]
  },
  {
   "cell_type": "code",
   "execution_count": 8,
   "id": "546033aa",
   "metadata": {},
   "outputs": [
    {
     "name": "stderr",
     "output_type": "stream",
     "text": [
      "/home/ec2-user/anaconda3/envs/python3/lib/python3.6/site-packages/boto3/compat.py:88: PythonDeprecationWarning: Boto3 will no longer support Python 3.6 starting May 30, 2022. To continue receiving service updates, bug fixes, and security updates please upgrade to Python 3.7 or later. More information can be found here: https://aws.amazon.com/blogs/developer/python-support-policy-updates-for-aws-sdks-and-tools/\n",
      "  warnings.warn(warning, PythonDeprecationWarning)\n"
     ]
    }
   ],
   "source": [
    "import boto3\n",
    "\n",
    "sm = boto3.client(service_name='sagemaker')\n",
    "sm_rt = boto3.client(service_name='sagemaker-runtime')"
   ]
  },
  {
   "cell_type": "code",
   "execution_count": 9,
   "id": "8063ae6a",
   "metadata": {},
   "outputs": [],
   "source": [
    "from time import gmtime, strftime\n",
    "\n",
    "def name_with_timestamp(name):\n",
    "    return '{}-{}'.format(name, strftime('%Y-%m-%d-%H-%M-%S', gmtime()))\n",
    "\n",
    "huggingface_model_name    = name_with_timestamp('huggingface-serverless')\n",
    "huggingface_epc_name      = name_with_timestamp('huggingface-serverless-epc')\n",
    "huggingface_endpoint_name = name_with_timestamp('huggingface-serverless-ep')"
   ]
  },
  {
   "cell_type": "markdown",
   "id": "bb33f044",
   "metadata": {},
   "source": [
    "## Creating serverless endpoint configuration"
   ]
  },
  {
   "cell_type": "code",
   "execution_count": null,
   "id": "347c6515",
   "metadata": {},
   "outputs": [],
   "source": [
    "endpoint_config_response = sm.create_endpoint_config(\n",
    "    EndpointConfigName=huggingface_epc_name,\n",
    "    ProductionVariants=[\n",
    "        {\n",
    "            'VariantName': 'single-variant',\n",
    "            'ModelName': 'huggingface-pytorch-inference-2022-08-07-21-36-49-967',\n",
    "            'ServerlessConfig': {\n",
    "                'MemorySizeInMB': 2048,\n",
    "                'MaxConcurrency': 8,\n",
    "            },\n",
    "        },\n",
    "    ],\n",
    ")\n",
    "\n",
    "endpoint_config_response['EndpointConfigArn']"
   ]
  },
  {
   "cell_type": "markdown",
   "id": "935084c4",
   "metadata": {},
   "source": [
    "## Creating serverless endpoint"
   ]
  },
  {
   "cell_type": "code",
   "execution_count": null,
   "id": "07c8d7a1",
   "metadata": {},
   "outputs": [],
   "source": [
    "create_endpoint_response = sm.create_endpoint(\n",
    "    EndpointName=huggingface_endpoint_name,\n",
    "    EndpointConfigName=huggingface_epc_name,\n",
    ")\n",
    "\n",
    "create_endpoint_response['EndpointArn']"
   ]
  },
  {
   "cell_type": "code",
   "execution_count": 14,
   "id": "ef21a563",
   "metadata": {},
   "outputs": [],
   "source": [
    "waiter = sm.get_waiter('endpoint_in_service')\n",
    "waiter.wait(EndpointName=huggingface_endpoint_name)"
   ]
  },
  {
   "cell_type": "markdown",
   "id": "f4a8bea7",
   "metadata": {},
   "source": [
    "## Invoking serverless endpoint"
   ]
  },
  {
   "cell_type": "code",
   "execution_count": 15,
   "id": "8d32c9a4",
   "metadata": {},
   "outputs": [],
   "source": [
    "import boto3, json\n",
    "\n",
    "sm_rt = boto3.client(service_name='sagemaker-runtime')"
   ]
  },
  {
   "cell_type": "code",
   "execution_count": 17,
   "id": "a9922ddb",
   "metadata": {},
   "outputs": [
    {
     "name": "stdout",
     "output_type": "stream",
     "text": [
      "b'{\"prediction\": 0.9597054719924927}'\n"
     ]
    }
   ],
   "source": [
    "test_data = {\n",
    "   \"sentence\": \"eres un malparido\"\n",
    "}\n",
    "\n",
    "response = sm_rt.invoke_endpoint(\n",
    "            EndpointName=huggingface_endpoint_name,\n",
    "            Body=json.dumps(test_data),\n",
    "            ContentType='application/json'\n",
    ")\n",
    "\n",
    "print(response[\"Body\"].read())"
   ]
  }
 ],
 "metadata": {
  "kernelspec": {
   "display_name": "Python 3.9.6 64-bit ('violentometro-streamlit')",
   "language": "python",
   "name": "python3"
  },
  "language_info": {
   "codemirror_mode": {
    "name": "ipython",
    "version": 3
   },
   "file_extension": ".py",
   "mimetype": "text/x-python",
   "name": "python",
   "nbconvert_exporter": "python",
   "pygments_lexer": "ipython3",
   "version": "3.9.6"
  },
  "vscode": {
   "interpreter": {
    "hash": "b82029ff180cb0c89296cae5ad97ac2fa95337c5ec8fc3f050da8727adb8bd55"
   }
  }
 },
 "nbformat": 4,
 "nbformat_minor": 5
}
