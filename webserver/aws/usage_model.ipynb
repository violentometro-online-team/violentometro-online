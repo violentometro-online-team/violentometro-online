{
 "cells": [
  {
   "cell_type": "code",
   "execution_count": 1,
   "id": "0b993e72",
   "metadata": {},
   "outputs": [],
   "source": [
    "import json\n",
    "import sagemaker\n",
    "import boto3"
   ]
  },
  {
   "cell_type": "code",
   "execution_count": 2,
   "id": "879046ca",
   "metadata": {},
   "outputs": [],
   "source": [
    "client = boto3.client(\"sagemaker-runtime\")\n",
    "\n",
    "payload = {\"sentence\": \"hola\"}"
   ]
  },
  {
   "cell_type": "code",
   "execution_count": 4,
   "id": "3d67a569",
   "metadata": {},
   "outputs": [],
   "source": [
    "response = client.invoke_endpoint(\n",
    "    EndpointName = \"pytorch-inference-2021-07-22-18-58-18-469\",\n",
    "    ContentType = \"application/json\",\n",
    "    Accept=\"application/json\",\n",
    "    Body = json.dumps(payload)\n",
    ")"
   ]
  },
  {
   "cell_type": "code",
   "execution_count": 5,
   "id": "8363ab45",
   "metadata": {},
   "outputs": [],
   "source": [
    "response_body = json.loads(response[\"Body\"].read())"
   ]
  },
  {
   "cell_type": "code",
   "execution_count": 6,
   "id": "21a41927",
   "metadata": {},
   "outputs": [
    {
     "name": "stdout",
     "output_type": "stream",
     "text": [
      "{\n",
      "    \"prediction\": 0.6604037880897522\n",
      "}\n"
     ]
    }
   ],
   "source": [
    "print(json.dumps(response_body, indent=4))"
   ]
  },
  {
   "cell_type": "code",
   "execution_count": null,
   "id": "3e25a006",
   "metadata": {},
   "outputs": [],
   "source": []
  }
 ],
 "metadata": {
  "kernelspec": {
   "display_name": "conda_python3",
   "language": "python",
   "name": "conda_python3"
  },
  "language_info": {
   "codemirror_mode": {
    "name": "ipython",
    "version": 3
   },
   "file_extension": ".py",
   "mimetype": "text/x-python",
   "name": "python",
   "nbconvert_exporter": "python",
   "pygments_lexer": "ipython3",
   "version": "3.6.13"
  }
 },
 "nbformat": 4,
 "nbformat_minor": 5
}
